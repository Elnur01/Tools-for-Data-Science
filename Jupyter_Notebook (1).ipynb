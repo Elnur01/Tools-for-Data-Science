{
 "cells": [
  {
   "cell_type": "markdown",
   "metadata": {},
   "source": [
    "<center>\n",
    "    <img src=\"https://cf-courses-data.s3.us.cloud-object-storage.appdomain.cloud/IBMDeveloperSkillsNetwork-DS0105EN-SkillsNetwork/labs/Module2/images/SN_web_lightmode.png\" width=\"300\" alt=\"cognitiveclass.ai logo\">\n",
    "</center>\n"
   ]
  },
  {
   "cell_type": "markdown",
   "metadata": {},
   "source": [
    "#### Add your code below following the instructions given in the course\n"
   ]
  },
  {
   "cell_type": "markdown",
   "metadata": {},
   "source": [
    "# My_Jupyter_Notebook"
   ]
  },
  {
   "cell_type": "markdown",
   "metadata": {},
   "source": [
    "## Introduction\n",
    "This notebook provides an overview of the data science field, including commonly used languages, libraries, and tools. We will also demonstrate basic arithmetic operations."
   ]
  },
  {
   "cell_type": "markdown",
   "metadata": {},
   "source": [
    "##### Data Science Langunages\n",
    "\n",
    "- Python\n",
    "- SQL\n",
    "- R Langunage\n",
    "- Java"
   ]
  },
  {
   "cell_type": "markdown",
   "metadata": {},
   "source": [
    "## Data Science Languages\n",
    "1. Python\n",
    "2. R\n",
    "3. SQL\n",
    "4. Julia\n",
    "5. Scala\n"
   ]
  },
  {
   "cell_type": "markdown",
   "metadata": {},
   "source": [
    "## Data Science Libraries\n",
    "1. Pandas (Python)\n",
    "2. Numpy (Python)\n",
    "3. Matplotlib (Python)\n",
    "4. Scikit-learn (Python)\n",
    "5. Tensorflow (Python)\n",
    "6. Keras (Python)\n",
    "7. ggplot2 (R)\n",
    "8. dplyr (R)"
   ]
  },
  {
   "cell_type": "markdown",
   "metadata": {
    "tags": []
   },
   "source": [
    "## Data Science Tools\n",
    "\n",
    "| Tools | Description |\n",
    "| --- | --- |\n",
    "| Jupyter Notebook | An open-source web application that allows the creation and sharing of documents containing live code, equations, visualizations, and narrative text. |\n",
    "| RStudio | An integrated development environment for R, with a console, syntax-highlighting editor that supports direct code execution. |\n",
    "| Google Colab | A free cloud service, based on Jupyter Notebooks for machine learning education and research. |\n",
    "| Tableau | A powerful data visualization tool used in the Business Intelligence Industry. |\n",
    "| SQL Workbench | An open-source, cross-platform SQL query tool. |"
   ]
  },
  {
   "cell_type": "markdown",
   "metadata": {},
   "source": [
    "## Arithmetic in Python\n",
    "Arithmetic operations in Python include addition (+), subtraction (-), multiplication (*), and division (/). Let's look at some examples."
   ]
  },
  {
   "cell_type": "code",
   "execution_count": 3,
   "metadata": {
    "tags": []
   },
   "outputs": [
    {
     "name": "stdout",
     "output_type": "stream",
     "text": [
      "Multiplication Result: 15\n",
      "Addition Result: 8\n"
     ]
    }
   ],
   "source": [
    "# Multiply\n",
    "product = 5 * 3\n",
    "print(f\"Multiplication Result: {product}\")\n",
    "\n",
    "# Addition\n",
    "sum_result = 5 + 3\n",
    "print(f\"Addition Result: {sum_result}\")"
   ]
  },
  {
   "cell_type": "code",
   "execution_count": 4,
   "metadata": {
    "tags": []
   },
   "outputs": [
    {
     "name": "stdout",
     "output_type": "stream",
     "text": [
      "120 minutes is equal to 2.0 hours.\n"
     ]
    }
   ],
   "source": [
    "# Convert minutes to hours\n",
    "minutes = 120\n",
    "hours = minutes / 60\n",
    "print(f\"{minutes} minutes is equal to {hours} hours.\")"
   ]
  },
  {
   "cell_type": "markdown",
   "metadata": {
    "tags": []
   },
   "source": [
    "## Objectives\n",
    "1. Understand basic data science languages and libraries.\n",
    "2. Learn how to use Jupyterlite Notebook.\n",
    "3. Get familiar with common data science tools.\n",
    "4. Practice basic arithmetic operations in Python."
   ]
  }
 ],
 "metadata": {
  "kernelspec": {
   "display_name": "Python",
   "language": "python",
   "name": "conda-env-python-py"
  },
  "language_info": {
   "codemirror_mode": {
    "name": "ipython",
    "version": 3
   },
   "file_extension": ".py",
   "mimetype": "text/x-python",
   "name": "python",
   "nbconvert_exporter": "python",
   "pygments_lexer": "ipython3",
   "version": "3.7.12"
  }
 },
 "nbformat": 4,
 "nbformat_minor": 4
}
